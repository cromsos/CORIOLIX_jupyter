{
 "cells": [
  {
   "cell_type": "code",
   "execution_count": null,
   "metadata": {},
   "outputs": [],
   "source": []
  },
  {
   "cell_type": "code",
   "execution_count": 5,
   "metadata": {},
   "outputs": [
    {
     "name": "stdout",
     "output_type": "stream",
     "text": [
      "{'message': {'code': 404, 'status': '{\"message\":\"Query returned no results for primary stream\",\"requestUUID\":\"ae8b73b0-0507-4137-9213-ff3afa24c934\"}\\n'}, 'status_code': 404}\n"
     ]
    },
    {
     "ename": "TypeError",
     "evalue": "string indices must be integers",
     "output_type": "error",
     "traceback": [
      "\u001b[0;31m---------------------------------------------------------------------------\u001b[0m",
      "\u001b[0;31mTypeError\u001b[0m                                 Traceback (most recent call last)",
      "\u001b[0;32m<ipython-input-5-91302532d08c>\u001b[0m in \u001b[0;36m<module>\u001b[0;34m\u001b[0m\n\u001b[1;32m     85\u001b[0m         \u001b[0mn\u001b[0m\u001b[0;34m+=\u001b[0m\u001b[0;36m1\u001b[0m\u001b[0;34m\u001b[0m\u001b[0m\n\u001b[1;32m     86\u001b[0m \u001b[0;34m\u001b[0m\u001b[0m\n\u001b[0;32m---> 87\u001b[0;31m \u001b[0mrun\u001b[0m\u001b[0;34m(\u001b[0m\u001b[0;34m)\u001b[0m\u001b[0;34m\u001b[0m\u001b[0m\n\u001b[0m",
      "\u001b[0;32m<ipython-input-5-91302532d08c>\u001b[0m in \u001b[0;36mrun\u001b[0;34m()\u001b[0m\n\u001b[1;32m     72\u001b[0m     \u001b[0;32mfor\u001b[0m \u001b[0mi\u001b[0m \u001b[0;32min\u001b[0m \u001b[0mjson_response\u001b[0m\u001b[0;34m:\u001b[0m\u001b[0;34m\u001b[0m\u001b[0m\n\u001b[1;32m     73\u001b[0m \u001b[0;34m\u001b[0m\u001b[0m\n\u001b[0;32m---> 74\u001b[0;31m         \u001b[0mINSTRUMENT_ISOTIME\u001b[0m \u001b[0;34m=\u001b[0m \u001b[0mconvertOOItime\u001b[0m\u001b[0;34m(\u001b[0m\u001b[0mi\u001b[0m\u001b[0;34m[\u001b[0m\u001b[0;34m\"time\"\u001b[0m\u001b[0;34m]\u001b[0m\u001b[0;34m)\u001b[0m\u001b[0;34m+\u001b[0m\u001b[0;34m'Z'\u001b[0m\u001b[0;34m\u001b[0m\u001b[0m\n\u001b[0m\u001b[1;32m     75\u001b[0m         \u001b[0mE\u001b[0m \u001b[0;34m=\u001b[0m \u001b[0mi\u001b[0m\u001b[0;34m[\u001b[0m\u001b[0;34m\"vel3d_c_eastward_turbulent_velocity\"\u001b[0m\u001b[0;34m]\u001b[0m\u001b[0;34m\u001b[0m\u001b[0m\n\u001b[1;32m     76\u001b[0m         \u001b[0mN\u001b[0m \u001b[0;34m=\u001b[0m \u001b[0mi\u001b[0m\u001b[0;34m[\u001b[0m\u001b[0;34m\"vel3d_c_northward_turbulent_velocity\"\u001b[0m\u001b[0;34m]\u001b[0m\u001b[0;34m\u001b[0m\u001b[0m\n",
      "\u001b[0;31mTypeError\u001b[0m: string indices must be integers"
     ]
    }
   ],
   "source": [
    "import requests\n",
    "from datetime import datetime, timedelta, timezone\n",
    "\n",
    "\n",
    "def convertOOItime(ooi_seconds):\n",
    "    \"\"\"Convert ooi seconds to a datetime object.\"\"\"\n",
    "    t0 = datetime(1900, 1, 1)\n",
    "    dtObj = t0 + timedelta(seconds=ooi_seconds)\n",
    "    return dtObj.isoformat()\n",
    "\n",
    "\n",
    "def convertDTobj(dtObj):\n",
    "    \"\"\"Convert datetime object to ooi seconds.\"\"\"\n",
    "    ooi_seconds = (dtObj - datetime(1900, 1, 1)).total_seconds()\n",
    "    return ooi_seconds\n",
    "\n",
    "\n",
    "def run():\n",
    "    \"\"\"foo.\"\"\"\n",
    "    # OOI Authentication Credentials for Chris Romsos\n",
    "    USERNAME = 'OOIAPI-HTX3MQ74GUC2HM'\n",
    "    TOKEN = '0B4CJTS3SS1I'\n",
    "\n",
    "    # DATA_URL Variables\n",
    "    BASE_URL = \"https://ooinet.oceanobservatories.org/api/m2m/12576/sensor/inv/\"\n",
    "    PLATFORM = \"CE02SHBP/\"\n",
    "    NODE = \"LJ01D/\"\n",
    "    SENSOR = \"07-VEL3DC108/\"\n",
    "    METHOD = \"streamed/\"\n",
    "    PARAMETER = 'vel3d_cd_velocity_data'\n",
    "    BEGIN = '?beginDT='\n",
    "    END = '&endDT='\n",
    "    LIMIT = '&limit=5000'\n",
    "\n",
    "    # Get the last datetime from the database and convert it to a python datetime obj.\n",
    "    # This will be our start time for the DATA_URL\n",
    "    # last_data_time = aggModels.SensorFloat1Archive.objects.latest('datetime').datetime\n",
    "    \n",
    "    # Get the time 15 minutes ago (use for demonstration only)\n",
    "    last_data_time = datetime.now(timezone.utc)-timedelta(minutes=240)\n",
    "\n",
    "    # Reformat for the OOI M2M get request\n",
    "    TIME1 = str(last_data_time.isoformat()).replace('+00:00', 'Z')\n",
    "    # print(\"LAST_DATA_TIME = \"+TIME1)\n",
    "\n",
    "    # Get the UTC time now from the server clock\n",
    "    TIME2 = datetime.utcnow().isoformat()+'Z'\n",
    "    # print(\"REQUEST_TIME   = \"+TIME2)\n",
    "\n",
    "    # Build the data URL\n",
    "    DATA_URL = BASE_URL + \\\n",
    "        PLATFORM + \\\n",
    "        NODE + \\\n",
    "        SENSOR + \\\n",
    "        METHOD + \\\n",
    "        PARAMETER + \\\n",
    "        BEGIN + \\\n",
    "        TIME1 + \\\n",
    "        END + \\\n",
    "        TIME2 + \\\n",
    "        LIMIT\n",
    "\n",
    "    # Go get some OOI Data!\n",
    "    response = requests.get(DATA_URL, auth=(USERNAME, TOKEN))\n",
    "\n",
    "    # Convert the response to json\n",
    "    json_response = response.json()\n",
    "    print(json_response)\n",
    "    \n",
    "    n = 1\n",
    "    \n",
    "    for i in json_response:\n",
    "\n",
    "        INSTRUMENT_ISOTIME = convertOOItime(i[\"time\"])+'Z'\n",
    "        E = i[\"vel3d_c_eastward_turbulent_velocity\"]\n",
    "        N = i[\"vel3d_c_northward_turbulent_velocity\"]\n",
    "        U = i[\"vel3d_c_upward_turbulent_velocity\"]\n",
    "        \n",
    "        print(\"*****\"+str(n)+\"*****\")\n",
    "        print(INSTRUMENT_ISOTIME)\n",
    "        print(E)\n",
    "        print(N)\n",
    "        print(U)\n",
    "        \n",
    "        n+=1\n",
    "    \n",
    "run()"
   ]
  },
  {
   "cell_type": "code",
   "execution_count": null,
   "metadata": {},
   "outputs": [],
   "source": []
  }
 ],
 "metadata": {
  "kernelspec": {
   "display_name": "Python 3",
   "language": "python",
   "name": "python3"
  },
  "language_info": {
   "codemirror_mode": {
    "name": "ipython",
    "version": 3
   },
   "file_extension": ".py",
   "mimetype": "text/x-python",
   "name": "python",
   "nbconvert_exporter": "python",
   "pygments_lexer": "ipython3",
   "version": "3.6.3"
  }
 },
 "nbformat": 4,
 "nbformat_minor": 2
}
