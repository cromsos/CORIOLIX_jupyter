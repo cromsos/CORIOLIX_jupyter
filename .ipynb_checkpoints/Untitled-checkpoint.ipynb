{
 "cells": [
  {
   "cell_type": "markdown",
   "metadata": {},
   "source": [
    "# CORIOLIX REST API Documentation\n",
    "\n",
    "## EXAMPLE 1: Query the CORIOLIX REST API - Get a list of all REST endpoints"
   ]
  },
  {
   "cell_type": "code",
   "execution_count": 5,
   "metadata": {},
   "outputs": [],
   "source": [
    "\"\"\"Example script to query the CORIOLIX REST API.\"\"\"\n",
    "\n",
    "# Key concepts:\n",
    "# Use the python requests module to query the REST API\n",
    "# Use the python json module to parse and dump the json response\n",
    "\n",
    "# Returns:\n",
    "# Returns a list of all CORIOLIX REST Endpoints\n",
    "\n",
    "import requests\n",
    "import json\n",
    "\n",
    "# Base URL for Datapresence REST API - MODIFY AS NEEDED\n",
    "rest_url = 'https://coriolix.coas.oregonstate.edu/oceanus/api/?format=json'\n",
    "\n",
    "# Make the query to the REST API\n",
    "response = requests.get(rest_url)\n",
    "\n",
    "# Load the response as json data\n",
    "# responseJSON = json.loads(response.text)\n",
    "\n",
    "# Print all the published endpoints\n",
    "# print(json.dumps(responseJSON, indent=4, sort_keys=True))"
   ]
  },
  {
   "cell_type": "code",
   "execution_count": null,
   "metadata": {},
   "outputs": [],
   "source": []
  }
 ],
 "metadata": {
  "kernelspec": {
   "display_name": "Python 3",
   "language": "python",
   "name": "python3"
  },
  "language_info": {
   "codemirror_mode": {
    "name": "ipython",
    "version": 3
   },
   "file_extension": ".py",
   "mimetype": "text/x-python",
   "name": "python",
   "nbconvert_exporter": "python",
   "pygments_lexer": "ipython3",
   "version": "3.6.3"
  }
 },
 "nbformat": 4,
 "nbformat_minor": 2
}
